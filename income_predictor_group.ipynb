{
  "nbformat": 4,
  "nbformat_minor": 0,
  "metadata": {
    "colab": {
      "name": "income_predictor_group.ipynb",
      "provenance": [],
      "collapsed_sections": [],
      "machine_shape": "hm"
    },
    "kernelspec": {
      "name": "python3",
      "display_name": "Python 3"
    },
    "accelerator": "GPU"
  },
  "cells": [
    {
      "cell_type": "code",
      "metadata": {
        "id": "77QkJbAlyxzM",
        "colab_type": "code",
        "colab": {}
      },
      "source": [
        "from google.colab import drive\n",
        "drive.mount('/content/drive')"
      ],
      "execution_count": 0,
      "outputs": []
    },
    {
      "cell_type": "code",
      "metadata": {
        "id": "XZz0r_urvSh8",
        "colab_type": "code",
        "colab": {}
      },
      "source": [
        "!git clone --recursive https://github.com/microsoft/LightGBM \n",
        "%cd LightGBM\n",
        "!mkdir build\n",
        "%cd build\n",
        "!cmake -DUSE_GPU=1 ..\n",
        "!make -j$(nproc)"
      ],
      "execution_count": 0,
      "outputs": []
    },
    {
      "cell_type": "code",
      "metadata": {
        "id": "AtkHNIXrvgkf",
        "colab_type": "code",
        "colab": {}
      },
      "source": [
        "%cd /content/LightGBM/python-package\n",
        "!python3 setup.py install --gpu"
      ],
      "execution_count": 0,
      "outputs": []
    },
    {
      "cell_type": "code",
      "metadata": {
        "id": "na2IKJoIxxtd",
        "colab_type": "code",
        "colab": {}
      },
      "source": [
        "!pip install category_encoders"
      ],
      "execution_count": 0,
      "outputs": []
    },
    {
      "cell_type": "code",
      "metadata": {
        "id": "5qrPNb9lwv2H",
        "colab_type": "code",
        "colab": {}
      },
      "source": [
        "import pandas as pd\n",
        "import numpy as np\n",
        "import category_encoders as ce\n",
        "\n",
        "# Model import\n",
        "#from sklearn.ensemble import RandomForestRegressor\n",
        "from sklearn.metrics import mean_squared_error, mean_absolute_error\n",
        "from sklearn.model_selection import train_test_split\n",
        "from sklearn.preprocessing import KBinsDiscretizer\n",
        "#from sklearn.tree import DecisionTreeRegressor\n",
        "from sklearn.linear_model import LinearRegression\n",
        "from sklearn.linear_model import Lasso\n",
        "from sklearn.preprocessing import KBinsDiscretizer\n",
        "from math import sqrt\n",
        "import lightgbm as lgb"
      ],
      "execution_count": 0,
      "outputs": []
    },
    {
      "cell_type": "code",
      "metadata": {
        "id": "Pbm2ce33070L",
        "colab_type": "code",
        "outputId": "7ce07ffe-e033-4a30-cf30-2b0c9e3c4023",
        "colab": {
          "base_uri": "https://localhost:8080/",
          "height": 35
        }
      },
      "source": [
        "cd /content/drive/My\\ Drive"
      ],
      "execution_count": 0,
      "outputs": [
        {
          "output_type": "stream",
          "text": [
            "/content/drive/My Drive\n"
          ],
          "name": "stdout"
        }
      ]
    },
    {
      "cell_type": "code",
      "metadata": {
        "id": "-Ly251rtxrVY",
        "colab_type": "code",
        "colab": {}
      },
      "source": [
        "# Define paths\n",
        "training_file_path = \"tcd-ml-1920-group-income-train.csv\"\n",
        "validation_file_path = \"tcd-ml-1920-group-income-test.csv\"\n",
        "# submission_file_path = \"tcd ml 2019-20 income prediction submission file.csv\"\n",
        "\n",
        "# Read training data, identify missing data\n",
        "missing_values_list = [\"unknown\", \"Unknown\", \"UNKNOWN\", \"nA\", \"na\", \"n/a\", \"-\", \"--\", \"#NUM!\"]\n",
        "training_data = pd.read_csv(training_file_path, na_values = missing_values_list, dtype={'Housing Situation': str})\n",
        "validation_data = pd.read_csv(validation_file_path, na_values = missing_values_list, dtype={'Housing Situation': str})"
      ],
      "execution_count": 0,
      "outputs": []
    },
    {
      "cell_type": "code",
      "metadata": {
        "id": "fnXloSz809g7",
        "colab_type": "code",
        "colab": {}
      },
      "source": [
        "training_data['Primary Income'] = training_data['Total Yearly Income [EUR]'] - training_data['Yearly Income in addition to Salary (e.g. Rental Income)']\n",
        "\n",
        "renameColumnsWithSquareBracket = {'Body Height [cm]':'Body Height','Work Experience in Current Job [years]':'Work Experience'}\n",
        "training_data.rename(columns=renameColumnsWithSquareBracket, inplace=True)\n",
        "validation_data.rename(columns=renameColumnsWithSquareBracket, inplace=True)\n"
      ],
      "execution_count": 0,
      "outputs": []
    },
    {
      "cell_type": "code",
      "metadata": {
        "id": "Bt4WFnWx1IPY",
        "colab_type": "code",
        "colab": {}
      },
      "source": [
        "fill_col_dict = {'Year of Record': 1999,\n",
        " 'Gender':'female',\n",
        " 'Age': 15,\n",
        " 'Profession': 'principal administrative associate',\n",
        " 'University Degree': 0,\n",
        " 'Hair Color': 'Black'\n",
        " }\n",
        "for col in fill_col_dict.keys():\n",
        "    training_data[col] = training_data[col].fillna(fill_col_dict[col])\n",
        "    validation_data[col] = validation_data[col].fillna(fill_col_dict[col])\n"
      ],
      "execution_count": 0,
      "outputs": []
    },
    {
      "cell_type": "code",
      "metadata": {
        "id": "hHu84r8PIIJC",
        "colab_type": "code",
        "outputId": "8ae79af8-6690-470b-a896-bf38d146af6c",
        "colab": {
          "base_uri": "https://localhost:8080/",
          "height": 305
        }
      },
      "source": [
        "training_data = training_data.ffill(axis = 0)\n",
        "validation_data = validation_data.ffill(axis = 0)\n",
        "\n",
        "del_col = set(['Yearly Income in addition to Salary (e.g. Rental Income)','Total Yearly Income [EUR]','Primary Income'])\n",
        "features_col =  list(set(training_data) - del_col)\n",
        "training_features = training_data[features_col] #.iloc[:, :-3]\n",
        "training_target = training_data['Primary Income'] #training_data.iloc[:, -1]\n",
        "\n",
        "print(training_features.dtypes)"
      ],
      "execution_count": 0,
      "outputs": [
        {
          "output_type": "stream",
          "text": [
            "Age                                         int64\n",
            "Hair Color                                 object\n",
            "Gender                                     object\n",
            "Housing Situation                          object\n",
            "Body Height                                 int64\n",
            "Crime Level in the City of Employement      int64\n",
            "University Degree                          object\n",
            "Profession                                 object\n",
            "Year of Record                            float64\n",
            "Size of City                                int64\n",
            "Instance                                    int64\n",
            "Satisfation with employer                  object\n",
            "Wears Glasses                               int64\n",
            "Work Experience                           float64\n",
            "Country                                    object\n",
            "dtype: object\n"
          ],
          "name": "stdout"
        }
      ]
    },
    {
      "cell_type": "code",
      "metadata": {
        "id": "tIaavscdKgyI",
        "colab_type": "code",
        "colab": {
          "base_uri": "https://localhost:8080/",
          "height": 585
        },
        "outputId": "3aea91eb-7762-43c2-e81a-11348bba90b8"
      },
      "source": [
        "training_data.corr(method='pearson')"
      ],
      "execution_count": 30,
      "outputs": [
        {
          "output_type": "execute_result",
          "data": {
            "text/html": [
              "<div>\n",
              "<style scoped>\n",
              "    .dataframe tbody tr th:only-of-type {\n",
              "        vertical-align: middle;\n",
              "    }\n",
              "\n",
              "    .dataframe tbody tr th {\n",
              "        vertical-align: top;\n",
              "    }\n",
              "\n",
              "    .dataframe thead th {\n",
              "        text-align: right;\n",
              "    }\n",
              "</style>\n",
              "<table border=\"1\" class=\"dataframe\">\n",
              "  <thead>\n",
              "    <tr style=\"text-align: right;\">\n",
              "      <th></th>\n",
              "      <th>Instance</th>\n",
              "      <th>Year of Record</th>\n",
              "      <th>Crime Level in the City of Employement</th>\n",
              "      <th>Work Experience</th>\n",
              "      <th>Age</th>\n",
              "      <th>Size of City</th>\n",
              "      <th>Wears Glasses</th>\n",
              "      <th>Body Height</th>\n",
              "      <th>Yearly Income in addition to Salary (e.g. Rental Income)</th>\n",
              "      <th>Total Yearly Income [EUR]</th>\n",
              "      <th>Primary Income</th>\n",
              "    </tr>\n",
              "  </thead>\n",
              "  <tbody>\n",
              "    <tr>\n",
              "      <th>Instance</th>\n",
              "      <td>1.000000</td>\n",
              "      <td>0.998324</td>\n",
              "      <td>-0.000912</td>\n",
              "      <td>-0.000662</td>\n",
              "      <td>-0.000886</td>\n",
              "      <td>0.000091</td>\n",
              "      <td>0.001268</td>\n",
              "      <td>0.000552</td>\n",
              "      <td>0.000645</td>\n",
              "      <td>0.630978</td>\n",
              "      <td>0.645867</td>\n",
              "    </tr>\n",
              "    <tr>\n",
              "      <th>Year of Record</th>\n",
              "      <td>0.998324</td>\n",
              "      <td>1.000000</td>\n",
              "      <td>-0.003940</td>\n",
              "      <td>-0.000753</td>\n",
              "      <td>-0.000947</td>\n",
              "      <td>0.000122</td>\n",
              "      <td>0.001220</td>\n",
              "      <td>0.000485</td>\n",
              "      <td>0.000555</td>\n",
              "      <td>0.634595</td>\n",
              "      <td>0.649590</td>\n",
              "    </tr>\n",
              "    <tr>\n",
              "      <th>Crime Level in the City of Employement</th>\n",
              "      <td>-0.000912</td>\n",
              "      <td>-0.003940</td>\n",
              "      <td>1.000000</td>\n",
              "      <td>0.196145</td>\n",
              "      <td>0.201478</td>\n",
              "      <td>-0.000845</td>\n",
              "      <td>0.002288</td>\n",
              "      <td>0.000105</td>\n",
              "      <td>-0.001283</td>\n",
              "      <td>-0.046253</td>\n",
              "      <td>-0.047074</td>\n",
              "    </tr>\n",
              "    <tr>\n",
              "      <th>Work Experience</th>\n",
              "      <td>-0.000662</td>\n",
              "      <td>-0.000753</td>\n",
              "      <td>0.196145</td>\n",
              "      <td>1.000000</td>\n",
              "      <td>0.968895</td>\n",
              "      <td>0.000218</td>\n",
              "      <td>0.001639</td>\n",
              "      <td>0.054738</td>\n",
              "      <td>0.000238</td>\n",
              "      <td>0.105108</td>\n",
              "      <td>0.107560</td>\n",
              "    </tr>\n",
              "    <tr>\n",
              "      <th>Age</th>\n",
              "      <td>-0.000886</td>\n",
              "      <td>-0.000947</td>\n",
              "      <td>0.201478</td>\n",
              "      <td>0.968895</td>\n",
              "      <td>1.000000</td>\n",
              "      <td>0.000396</td>\n",
              "      <td>0.001071</td>\n",
              "      <td>0.000777</td>\n",
              "      <td>0.000647</td>\n",
              "      <td>0.100672</td>\n",
              "      <td>0.102928</td>\n",
              "    </tr>\n",
              "    <tr>\n",
              "      <th>Size of City</th>\n",
              "      <td>0.000091</td>\n",
              "      <td>0.000122</td>\n",
              "      <td>-0.000845</td>\n",
              "      <td>0.000218</td>\n",
              "      <td>0.000396</td>\n",
              "      <td>1.000000</td>\n",
              "      <td>-0.001075</td>\n",
              "      <td>-0.000388</td>\n",
              "      <td>-0.002033</td>\n",
              "      <td>0.021637</td>\n",
              "      <td>0.022597</td>\n",
              "    </tr>\n",
              "    <tr>\n",
              "      <th>Wears Glasses</th>\n",
              "      <td>0.001268</td>\n",
              "      <td>0.001220</td>\n",
              "      <td>0.002288</td>\n",
              "      <td>0.001639</td>\n",
              "      <td>0.001071</td>\n",
              "      <td>-0.001075</td>\n",
              "      <td>1.000000</td>\n",
              "      <td>0.001380</td>\n",
              "      <td>-0.005266</td>\n",
              "      <td>-0.000428</td>\n",
              "      <td>0.000713</td>\n",
              "    </tr>\n",
              "    <tr>\n",
              "      <th>Body Height</th>\n",
              "      <td>0.000552</td>\n",
              "      <td>0.000485</td>\n",
              "      <td>0.000105</td>\n",
              "      <td>0.054738</td>\n",
              "      <td>0.000777</td>\n",
              "      <td>-0.000388</td>\n",
              "      <td>0.001380</td>\n",
              "      <td>1.000000</td>\n",
              "      <td>0.003245</td>\n",
              "      <td>0.020800</td>\n",
              "      <td>0.020585</td>\n",
              "    </tr>\n",
              "    <tr>\n",
              "      <th>Yearly Income in addition to Salary (e.g. Rental Income)</th>\n",
              "      <td>0.000645</td>\n",
              "      <td>0.000555</td>\n",
              "      <td>-0.001283</td>\n",
              "      <td>0.000238</td>\n",
              "      <td>0.000647</td>\n",
              "      <td>-0.002033</td>\n",
              "      <td>-0.005266</td>\n",
              "      <td>0.003245</td>\n",
              "      <td>1.000000</td>\n",
              "      <td>0.214460</td>\n",
              "      <td>0.000865</td>\n",
              "    </tr>\n",
              "    <tr>\n",
              "      <th>Total Yearly Income [EUR]</th>\n",
              "      <td>0.630978</td>\n",
              "      <td>0.634595</td>\n",
              "      <td>-0.046253</td>\n",
              "      <td>0.105108</td>\n",
              "      <td>0.100672</td>\n",
              "      <td>0.021637</td>\n",
              "      <td>-0.000428</td>\n",
              "      <td>0.020800</td>\n",
              "      <td>0.214460</td>\n",
              "      <td>1.000000</td>\n",
              "      <td>0.976918</td>\n",
              "    </tr>\n",
              "    <tr>\n",
              "      <th>Primary Income</th>\n",
              "      <td>0.645867</td>\n",
              "      <td>0.649590</td>\n",
              "      <td>-0.047074</td>\n",
              "      <td>0.107560</td>\n",
              "      <td>0.102928</td>\n",
              "      <td>0.022597</td>\n",
              "      <td>0.000713</td>\n",
              "      <td>0.020585</td>\n",
              "      <td>0.000865</td>\n",
              "      <td>0.976918</td>\n",
              "      <td>1.000000</td>\n",
              "    </tr>\n",
              "  </tbody>\n",
              "</table>\n",
              "</div>"
            ],
            "text/plain": [
              "                                                    Instance  ...  Primary Income\n",
              "Instance                                            1.000000  ...        0.645867\n",
              "Year of Record                                      0.998324  ...        0.649590\n",
              "Crime Level in the City of Employement             -0.000912  ...       -0.047074\n",
              "Work Experience                                    -0.000662  ...        0.107560\n",
              "Age                                                -0.000886  ...        0.102928\n",
              "Size of City                                        0.000091  ...        0.022597\n",
              "Wears Glasses                                       0.001268  ...        0.000713\n",
              "Body Height                                         0.000552  ...        0.020585\n",
              "Yearly Income in addition to Salary (e.g. Renta...  0.000645  ...        0.000865\n",
              "Total Yearly Income [EUR]                           0.630978  ...        0.976918\n",
              "Primary Income                                      0.645867  ...        1.000000\n",
              "\n",
              "[11 rows x 11 columns]"
            ]
          },
          "metadata": {
            "tags": []
          },
          "execution_count": 30
        }
      ]
    },
    {
      "cell_type": "code",
      "metadata": {
        "id": "bLMEmuZQ1MSa",
        "colab_type": "code",
        "colab": {}
      },
      "source": [
        "target_encoder = ce.TargetEncoder(cols=['Housing Situation', 'Gender', 'Country','Profession','University Degree',\n",
        "                                        'Wears Glasses', 'Satisfation with employer', 'Hair Color'], handle_unknown='ignore', min_samples_leaf = 100,smoothing = 10.0)\n",
        "\n",
        "\n",
        "training_features = target_encoder.fit_transform(training_features, training_target).replace([np.inf, -np.inf], np.nan).dropna(axis = 'rows').astype(int)\n",
        "\n",
        "train_X, val_X, train_y, val_y = train_test_split(training_features, training_target)\n",
        "\n",
        "val_y_scaled = np.log(val_y)\n",
        "train_y_scaled = np.log(train_y)\n"
      ],
      "execution_count": 0,
      "outputs": []
    },
    {
      "cell_type": "code",
      "metadata": {
        "id": "JDfTfAJN1UVR",
        "colab_type": "code",
        "outputId": "1c061cb9-9de1-4cc5-b371-c0cab1cf9625",
        "colab": {
          "base_uri": "https://localhost:8080/",
          "height": 590
        }
      },
      "source": [
        "#------------------------Build LightGBM Model-----------------------\n",
        "train_data=lgb.Dataset(train_X, categorical_feature=['Housing Situation', 'Gender','University Degree',\n",
        "                                        'Wears Glasses', 'Satisfation with employer', 'Hair Color'], label=train_y_scaled)\n",
        "valid_data=lgb.Dataset(val_X, categorical_feature=['Housing Situation', 'Gender','University Degree',\n",
        "                                        'Wears Glasses', 'Satisfation with employer', 'Hair Color'], label=val_y_scaled)\n",
        "\n",
        "#Select Hyper-Parameters\n",
        "params = {'metric' : 'mae',\n",
        "          'boosting_type' : 'gbdt',\n",
        "          'learning_rate': 0.001,\n",
        "          'max_depth' : -1,\n",
        "          'device_type':'gpu',\n",
        "          #'max_bin':'63',\n",
        "          'verbose' : -1,\n",
        "          'reg_alpha': 2,\n",
        "          #'min_child_samples': 50, \n",
        "          #'min_child_weight': 0.1,\n",
        "          'reg_lambda': 5,\n",
        "          #'subsample': 0.855,\n",
        "          'bagging_seed' : 11,\n",
        "          'ignore_column' : ['Instance', 'Age', 'Wears Glasses','Crime Level in the City of Employement']\n",
        "}\n",
        "\n",
        "#Train model on selected parameters and number of iterations\n",
        "lgbm = lgb.train(params,\n",
        "                 train_data,\n",
        "                 25000,\n",
        "                 valid_sets=valid_data,\n",
        "                 early_stopping_rounds= 5,\n",
        "                 verbose_eval= 1000\n",
        "                 )"
      ],
      "execution_count": 23,
      "outputs": [
        {
          "output_type": "stream",
          "text": [
            "/content/LightGBM/python-package/lightgbm/basic.py:1291: UserWarning: Using categorical_feature in Dataset.\n",
            "  warnings.warn('Using categorical_feature in Dataset.')\n"
          ],
          "name": "stderr"
        },
        {
          "output_type": "stream",
          "text": [
            "Training until validation scores don't improve for 5 rounds\n",
            "[1000]\tvalid_0's l1: 0.612688\n",
            "[2000]\tvalid_0's l1: 0.329008\n",
            "[3000]\tvalid_0's l1: 0.235088\n",
            "[4000]\tvalid_0's l1: 0.196199\n",
            "[5000]\tvalid_0's l1: 0.176966\n",
            "[6000]\tvalid_0's l1: 0.166845\n",
            "[7000]\tvalid_0's l1: 0.160814\n",
            "[8000]\tvalid_0's l1: 0.156521\n",
            "[9000]\tvalid_0's l1: 0.153473\n",
            "[10000]\tvalid_0's l1: 0.151258\n",
            "[11000]\tvalid_0's l1: 0.149499\n",
            "[12000]\tvalid_0's l1: 0.147972\n",
            "[13000]\tvalid_0's l1: 0.146879\n",
            "[14000]\tvalid_0's l1: 0.145886\n",
            "[15000]\tvalid_0's l1: 0.145011\n",
            "[16000]\tvalid_0's l1: 0.144191\n",
            "[17000]\tvalid_0's l1: 0.143503\n",
            "[18000]\tvalid_0's l1: 0.142846\n",
            "[19000]\tvalid_0's l1: 0.142275\n",
            "[20000]\tvalid_0's l1: 0.141746\n",
            "[21000]\tvalid_0's l1: 0.141283\n",
            "[22000]\tvalid_0's l1: 0.140872\n",
            "[23000]\tvalid_0's l1: 0.1405\n",
            "[24000]\tvalid_0's l1: 0.140154\n",
            "[25000]\tvalid_0's l1: 0.139846\n",
            "Did not meet early stopping. Best iteration is:\n",
            "[25000]\tvalid_0's l1: 0.139846\n"
          ],
          "name": "stdout"
        }
      ]
    },
    {
      "cell_type": "code",
      "metadata": {
        "id": "sEEPCvzXLnEB",
        "colab_type": "code",
        "outputId": "e409fdd2-36bf-41b4-f9d0-e23cc0172c44",
        "colab": {
          "base_uri": "https://localhost:8080/",
          "height": 36
        }
      },
      "source": [
        "target_pred = np.exp(lgbm.predict(val_X))\n",
        "print(mean_absolute_error(val_y, target_pred, sample_weight=None, multioutput='uniform_average'));"
      ],
      "execution_count": 24,
      "outputs": [
        {
          "output_type": "stream",
          "text": [
            "9107.301871941521\n"
          ],
          "name": "stdout"
        }
      ]
    },
    {
      "cell_type": "code",
      "metadata": {
        "id": "LTAWvX80LoLW",
        "colab_type": "code",
        "colab": {}
      },
      "source": [
        "extra_income = validation_data['Yearly Income in addition to Salary (e.g. Rental Income)']\n",
        "validation_data = target_encoder.transform(validation_data.iloc[:, :-2])\n",
        "validation_data['Total Yearly Income [EUR]'] = np.exp(lgbm.predict(validation_data)) + extra_income\n",
        "validation_data.to_csv(\"result1.csv\", index=False, columns=[\"Instance\", \"Total Yearly Income [EUR]\"])"
      ],
      "execution_count": 0,
      "outputs": []
    },
    {
      "cell_type": "code",
      "metadata": {
        "id": "Wa04nrC_fJB5",
        "colab_type": "code",
        "colab": {}
      },
      "source": [
        ""
      ],
      "execution_count": 0,
      "outputs": []
    }
  ]
}